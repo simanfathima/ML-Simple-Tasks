{
  "nbformat": 4,
  "nbformat_minor": 0,
  "metadata": {
    "colab": {
      "name": "StudentScorePrediction.ipynb",
      "provenance": [],
      "collapsed_sections": [],
      "toc_visible": true,
      "include_colab_link": true
    },
    "kernelspec": {
      "name": "python3",
      "display_name": "Python 3"
    }
  },
  "cells": [
    {
      "cell_type": "markdown",
      "metadata": {
        "id": "view-in-github",
        "colab_type": "text"
      },
      "source": [
        "<a href=\"https://colab.research.google.com/github/simanfathima/ML-Simple-Tasks/blob/master/StudentScorePrediction.ipynb\" target=\"_parent\"><img src=\"https://colab.research.google.com/assets/colab-badge.svg\" alt=\"Open In Colab\"/></a>"
      ]
    },
    {
      "cell_type": "markdown",
      "metadata": {
        "id": "vN99YjPTDena",
        "colab_type": "text"
      },
      "source": [
        "# Predicting Student scores using Linear and Polynomial Regression"
      ]
    },
    {
      "cell_type": "markdown",
      "metadata": {
        "id": "ZIx_naXnDyHd",
        "colab_type": "text"
      },
      "source": [
        "## Importing the libraries"
      ]
    },
    {
      "cell_type": "code",
      "metadata": {
        "id": "FjnmdyPLD2tS",
        "colab_type": "code",
        "colab": {
          "base_uri": "https://localhost:8080/",
          "height": 215
        },
        "outputId": "8c3c6cc1-3ac5-4215-f7bf-a4fca4d70f9b"
      },
      "source": [
        "import numpy as np\n",
        "import matplotlib.pyplot as plt\n",
        "import pandas as pd\n",
        "!wget https://raw.githubusercontent.com/AdiPersonalWorks/Random/master/student_scores%20-%20student_scores.csv"
      ],
      "execution_count": 2,
      "outputs": [
        {
          "output_type": "stream",
          "text": [
            "--2020-08-15 08:15:59--  https://raw.githubusercontent.com/AdiPersonalWorks/Random/master/student_scores%20-%20student_scores.csv\n",
            "Resolving raw.githubusercontent.com (raw.githubusercontent.com)... 151.101.0.133, 151.101.64.133, 151.101.128.133, ...\n",
            "Connecting to raw.githubusercontent.com (raw.githubusercontent.com)|151.101.0.133|:443... connected.\n",
            "HTTP request sent, awaiting response... 200 OK\n",
            "Length: 212 [text/plain]\n",
            "Saving to: ‘student_scores - student_scores.csv’\n",
            "\n",
            "\r          student_s   0%[                    ]       0  --.-KB/s               \rstudent_scores - st 100%[===================>]     212  --.-KB/s    in 0s      \n",
            "\n",
            "2020-08-15 08:15:59 (7.45 MB/s) - ‘student_scores - student_scores.csv’ saved [212/212]\n",
            "\n"
          ],
          "name": "stdout"
        }
      ]
    },
    {
      "cell_type": "markdown",
      "metadata": {
        "id": "6c8YExmOD5x5",
        "colab_type": "text"
      },
      "source": [
        "## Importing the dataset"
      ]
    },
    {
      "cell_type": "code",
      "metadata": {
        "id": "nQOdXhjXD_AE",
        "colab_type": "code",
        "colab": {
          "base_uri": "https://localhost:8080/",
          "height": 467
        },
        "outputId": "735f6e3e-c180-4da1-d0f0-fe52b13a71e0"
      },
      "source": [
        "dataset = pd.read_csv('student_scores - student_scores.csv')\n",
        "X = dataset.iloc[:, :-1].values\n",
        "y = dataset.iloc[:, -1].values\n",
        "print(X)"
      ],
      "execution_count": 3,
      "outputs": [
        {
          "output_type": "stream",
          "text": [
            "[[2.5]\n",
            " [5.1]\n",
            " [3.2]\n",
            " [8.5]\n",
            " [3.5]\n",
            " [1.5]\n",
            " [9.2]\n",
            " [5.5]\n",
            " [8.3]\n",
            " [2.7]\n",
            " [7.7]\n",
            " [5.9]\n",
            " [4.5]\n",
            " [3.3]\n",
            " [1.1]\n",
            " [8.9]\n",
            " [2.5]\n",
            " [1.9]\n",
            " [6.1]\n",
            " [7.4]\n",
            " [2.7]\n",
            " [4.8]\n",
            " [3.8]\n",
            " [6.9]\n",
            " [7.8]]\n"
          ],
          "name": "stdout"
        }
      ]
    },
    {
      "cell_type": "code",
      "metadata": {
        "id": "l7NvqrjZ9F8Z",
        "colab_type": "code",
        "colab": {
          "base_uri": "https://localhost:8080/",
          "height": 53
        },
        "outputId": "a6a7fc76-a27c-4ba0-9507-db980937ab00"
      },
      "source": [
        "print(y)"
      ],
      "execution_count": 4,
      "outputs": [
        {
          "output_type": "stream",
          "text": [
            "[21 47 27 75 30 20 88 60 81 25 85 62 41 42 17 95 30 24 67 69 30 54 35 76\n",
            " 86]\n"
          ],
          "name": "stdout"
        }
      ]
    },
    {
      "cell_type": "markdown",
      "metadata": {
        "id": "Ud_1XTb28iXH",
        "colab_type": "text"
      },
      "source": [
        "## Splitting the dataset into the Training set and Test set"
      ]
    },
    {
      "cell_type": "code",
      "metadata": {
        "id": "bUib_pbl8ipB",
        "colab_type": "code",
        "colab": {}
      },
      "source": [
        "from sklearn.model_selection import train_test_split\n",
        "X_train, X_test, y_train, y_test = train_test_split(X, y, test_size = 1/3, random_state = 0)"
      ],
      "execution_count": 5,
      "outputs": []
    },
    {
      "cell_type": "markdown",
      "metadata": {
        "id": "Rb5nWuSHEfBV",
        "colab_type": "text"
      },
      "source": [
        "## Training the Polynomial Regression model on the Training set"
      ]
    },
    {
      "cell_type": "code",
      "metadata": {
        "id": "HYplp4pTEm0O",
        "colab_type": "code",
        "colab": {
          "base_uri": "https://localhost:8080/",
          "height": 35
        },
        "outputId": "6054d67b-32f3-4e16-eabb-dc19308858b9"
      },
      "source": [
        "from sklearn.preprocessing import PolynomialFeatures\n",
        "from sklearn.linear_model import LinearRegression\n",
        "poly_reg = PolynomialFeatures(degree = 4)\n",
        "X_poly = poly_reg.fit_transform(X_train)\n",
        "poly_regressor = LinearRegression()\n",
        "poly_regressor.fit(X_poly, y_train)"
      ],
      "execution_count": 6,
      "outputs": [
        {
          "output_type": "execute_result",
          "data": {
            "text/plain": [
              "LinearRegression(copy_X=True, fit_intercept=True, n_jobs=None, normalize=False)"
            ]
          },
          "metadata": {
            "tags": []
          },
          "execution_count": 6
        }
      ]
    },
    {
      "cell_type": "markdown",
      "metadata": {
        "id": "kVyYDOcfHiHr",
        "colab_type": "text"
      },
      "source": [
        "## Training the Linear Regression model on the Training set"
      ]
    },
    {
      "cell_type": "code",
      "metadata": {
        "id": "s2DpviFeHhE1",
        "colab_type": "code",
        "colab": {
          "base_uri": "https://localhost:8080/",
          "height": 35
        },
        "outputId": "6ea68499-7a9c-4681-9de9-3575502b13bd"
      },
      "source": [
        "from sklearn.linear_model import LinearRegression\n",
        "lin_regressor = LinearRegression()\n",
        "lin_regressor.fit(X_train, y_train)"
      ],
      "execution_count": 7,
      "outputs": [
        {
          "output_type": "execute_result",
          "data": {
            "text/plain": [
              "LinearRegression(copy_X=True, fit_intercept=True, n_jobs=None, normalize=False)"
            ]
          },
          "metadata": {
            "tags": []
          },
          "execution_count": 7
        }
      ]
    },
    {
      "cell_type": "markdown",
      "metadata": {
        "id": "pzF3BRps9nlk",
        "colab_type": "text"
      },
      "source": [
        "## Predicting the Test set results and comparing with original data\n",
        "> **Linear Regression**\n"
      ]
    },
    {
      "cell_type": "code",
      "metadata": {
        "id": "36aFLFBK9pMk",
        "colab_type": "code",
        "colab": {
          "base_uri": "https://localhost:8080/",
          "height": 179
        },
        "outputId": "4788da05-8b09-4882-dd6b-4ac6003d510d"
      },
      "source": [
        "lin_pred =lin_regressor.predict(X_test)\n",
        "print(np.concatenate((lin_pred.reshape(len(lin_pred),1), y_test.reshape(len(y_test),1)),1))"
      ],
      "execution_count": 8,
      "outputs": [
        {
          "output_type": "stream",
          "text": [
            "[[17.04289179 20.        ]\n",
            " [33.51695377 27.        ]\n",
            " [74.21757747 69.        ]\n",
            " [26.73351648 30.        ]\n",
            " [59.68164043 62.        ]\n",
            " [39.33132858 35.        ]\n",
            " [20.91914167 24.        ]\n",
            " [78.09382734 86.        ]\n",
            " [69.37226512 76.        ]]\n"
          ],
          "name": "stdout"
        }
      ]
    },
    {
      "cell_type": "markdown",
      "metadata": {
        "id": "XHUlj-RqIMQa",
        "colab_type": "text"
      },
      "source": [
        "\n",
        "\n",
        "> **Polynomial Regression**\n"
      ]
    },
    {
      "cell_type": "code",
      "metadata": {
        "id": "vbGHu5G5H7PJ",
        "colab_type": "code",
        "colab": {
          "base_uri": "https://localhost:8080/",
          "height": 179
        },
        "outputId": "5a62e405-be81-4fb4-c548-e2ca3d8fdb91"
      },
      "source": [
        "poly_pred = poly_regressor.predict(poly_reg.transform(X_test))\n",
        "print(np.concatenate((poly_pred.reshape(len(poly_pred),1), y_test.reshape(len(y_test),1)),1))"
      ],
      "execution_count": 9,
      "outputs": [
        {
          "output_type": "stream",
          "text": [
            "[[18.18953797 20.        ]\n",
            " [31.52451109 27.        ]\n",
            " [76.86944121 69.        ]\n",
            " [24.77992602 30.        ]\n",
            " [62.35729611 62.        ]\n",
            " [38.12509618 35.        ]\n",
            " [20.28578303 24.        ]\n",
            " [80.05388941 86.        ]\n",
            " [72.46248442 76.        ]]\n"
          ],
          "name": "stdout"
        }
      ]
    },
    {
      "cell_type": "markdown",
      "metadata": {
        "id": "Fz1uTlWV919-",
        "colab_type": "text"
      },
      "source": [
        "## Evaluating the Model Performance\n",
        "> **Linear Regression**"
      ]
    },
    {
      "cell_type": "code",
      "metadata": {
        "id": "xvZQ_4W893-e",
        "colab_type": "code",
        "colab": {
          "base_uri": "https://localhost:8080/",
          "height": 35
        },
        "outputId": "093f2d93-e58b-4d64-9f9c-a9af626690b0"
      },
      "source": [
        "from sklearn.metrics import r2_score\n",
        "print(\"Accuracy rate:\",r2_score(y_test, lin_pred))"
      ],
      "execution_count": 10,
      "outputs": [
        {
          "output_type": "stream",
          "text": [
            "Accuracy rate: 0.9555700801388128\n"
          ],
          "name": "stdout"
        }
      ]
    },
    {
      "cell_type": "code",
      "metadata": {
        "id": "ErhClQ2AHB5s",
        "colab_type": "code",
        "colab": {
          "base_uri": "https://localhost:8080/",
          "height": 295
        },
        "outputId": "b680b4e1-be27-4b1b-f75c-b7a55f0bec8e"
      },
      "source": [
        "plt.scatter(X_train, y_train, color = 'red')\n",
        "plt.plot(X_train, lin_regressor.predict(X_train), color = 'blue')\n",
        "plt.title('Hours Vs Score(Training set)')\n",
        "plt.xlabel('Hours')\n",
        "plt.ylabel('Score')\n",
        "plt.show()"
      ],
      "execution_count": 11,
      "outputs": [
        {
          "output_type": "display_data",
          "data": {
            "image/png": "[encoded data removed]",
            "text/plain": [
              "<Figure size 432x288 with 1 Axes>"
            ]
          },
          "metadata": {
            "tags": [],
            "needs_background": "light"
          }
        }
      ]
    },
    {
      "cell_type": "code",
      "metadata": {
        "id": "WgwiqoGNFMVu",
        "colab_type": "code",
        "colab": {
          "base_uri": "https://localhost:8080/",
          "height": 295
        },
        "outputId": "c3881186-3aef-48a9-de00-857b8d1f41c9"
      },
      "source": [
        "plt.scatter(X_test, y_test, color = 'red')\n",
        "plt.plot(X_train, lin_regressor.predict(X_train), color = 'blue')\n",
        "plt.title('Hours Vs Score(Test set)')\n",
        "plt.xlabel('Hours')\n",
        "plt.ylabel('Score')\n",
        "plt.show()"
      ],
      "execution_count": 12,
      "outputs": [
        {
          "output_type": "display_data",
          "data": {
            "image/png": "[encoded data removed]",
            "text/plain": [
              "<Figure size 432x288 with 1 Axes>"
            ]
          },
          "metadata": {
            "tags": [],
            "needs_background": "light"
          }
        }
      ]
    },
    {
      "cell_type": "markdown",
      "metadata": {
        "id": "SOxHwTk4JOur",
        "colab_type": "text"
      },
      "source": [
        "> **Polynomial Regression**"
      ]
    },
    {
      "cell_type": "code",
      "metadata": {
        "id": "c7KCLTU6JRAJ",
        "colab_type": "code",
        "colab": {
          "base_uri": "https://localhost:8080/",
          "height": 35
        },
        "outputId": "14b56e86-5960-4266-e2b0-389e98e583b6"
      },
      "source": [
        "from sklearn.metrics import r2_score\n",
        "print(\"Accuracy rate:\",r2_score(y_test, poly_pred))"
      ],
      "execution_count": 13,
      "outputs": [
        {
          "output_type": "stream",
          "text": [
            "Accuracy rate: 0.9642330762709628\n"
          ],
          "name": "stdout"
        }
      ]
    },
    {
      "cell_type": "code",
      "metadata": {
        "id": "EaP11_SfJRh4",
        "colab_type": "code",
        "colab": {
          "base_uri": "https://localhost:8080/",
          "height": 295
        },
        "outputId": "37e64bbe-b603-4fbe-bb7b-4456ea70a482"
      },
      "source": [
        "X_grid = np.arange(min(X_train), max(X_train), 0.01)\n",
        "X_grid = X_grid.reshape((len(X_grid), 1))\n",
        "plt.scatter(X_train, y_train, color = 'red')\n",
        "plt.plot(X_grid, poly_regressor.predict(poly_reg.fit_transform(X_grid)), color = 'blue')\n",
        "plt.title('Hours Vs Score-Training Set Results (Polynomial Regression)')\n",
        "plt.xlabel('Hours')\n",
        "plt.ylabel('Score')\n",
        "plt.show()"
      ],
      "execution_count": 14,
      "outputs": [
        {
          "output_type": "display_data",
          "data": {
            "image/png": "[encoded data removed]",
            "text/plain": [
              "<Figure size 432x288 with 1 Axes>"
            ]
          },
          "metadata": {
            "tags": [],
            "needs_background": "light"
          }
        }
      ]
    },
    {
      "cell_type": "code",
      "metadata": {
        "id": "4KYNoeUQJTsR",
        "colab_type": "code",
        "colab": {
          "base_uri": "https://localhost:8080/",
          "height": 295
        },
        "outputId": "2543b64e-ad29-4765-e8df-4862a32a4fda"
      },
      "source": [
        "X_grid = np.arange(min(X_test), max(X_test), 0.01)\n",
        "X_grid = X_grid.reshape((len(X_grid), 1))\n",
        "plt.scatter(X_test, y_test, color = 'red')\n",
        "plt.plot(X_grid, poly_regressor.predict(poly_reg.transform(X_grid)), color = 'blue')\n",
        "plt.title('Hours Vs Score-Test Set Results (Polynomial Regression)')\n",
        "plt.xlabel('Hours')\n",
        "plt.ylabel('Score')\n",
        "plt.show()"
      ],
      "execution_count": 15,
      "outputs": [
        {
          "output_type": "display_data",
          "data": {
            "image/png": "[encoded data removed]",
            "text/plain": [
              "<Figure size 432x288 with 1 Axes>"
            ]
          },
          "metadata": {
            "tags": [],
            "needs_background": "light"
          }
        }
      ]
    },
    {
      "cell_type": "markdown",
      "metadata": {
        "id": "03XWBeqjCD6C",
        "colab_type": "text"
      },
      "source": [
        "## Example predictions\n",
        "> **Linear Regression**"
      ]
    },
    {
      "cell_type": "code",
      "metadata": {
        "id": "rRuk_v5M9dJa",
        "colab_type": "code",
        "colab": {
          "base_uri": "https://localhost:8080/",
          "height": 89
        },
        "outputId": "2a6e4013-8eda-4b07-d972-07a0edb47b89"
      },
      "source": [
        "print(\"Student Score for %3.2f hours is %4.2f\" %(9.0,np.squeeze(lin_regressor.predict(([[9.0]])))))\n",
        "print(\"Student Score for %3.2f hours is %4.2f\" %(2.0,np.squeeze(lin_regressor.predict(([[2.0]])))))\n",
        "print(\"Student Score for %3.2f hours is %4.2f\" %(7.9,np.squeeze(lin_regressor.predict(([[7.9]])))))\n",
        "print(\"Student Score for %3.2f hours is %4.2f\" %(5.3,np.squeeze(lin_regressor.predict(([[5.3]])))))"
      ],
      "execution_count": 16,
      "outputs": [
        {
          "output_type": "stream",
          "text": [
            "Student Score for 9.00 hours is 89.72\n",
            "Student Score for 2.00 hours is 21.89\n",
            "Student Score for 7.90 hours is 79.06\n",
            "Student Score for 5.30 hours is 53.87\n"
          ],
          "name": "stdout"
        }
      ]
    },
    {
      "cell_type": "markdown",
      "metadata": {
        "id": "6sovSrLmJEtn",
        "colab_type": "text"
      },
      "source": [
        "> **Polynomial Regression**"
      ]
    },
    {
      "cell_type": "code",
      "metadata": {
        "id": "qClZzffMJGzk",
        "colab_type": "code",
        "colab": {
          "base_uri": "https://localhost:8080/",
          "height": 89
        },
        "outputId": "796aa7e2-dcda-430d-d69a-ba4214097d04"
      },
      "source": [
        "print(\"Student Score for %3.2f hours is %4.2f\" %(9.0,np.squeeze(poly_regressor.predict(poly_reg.transform([[9.0]])))))\n",
        "print(\"Student Score for %3.2f hours is %4.2f\" %(2.0,np.squeeze(poly_regressor.predict(poly_reg.transform([[2.0]])))))\n",
        "print(\"Student Score for %3.2f hours is %4.2f\" %(7.9,np.squeeze(poly_regressor.predict(poly_reg.transform([[7.9]])))))\n",
        "print(\"Student Score for %3.2f hours is %4.2f\" %(5.3,np.squeeze(poly_regressor.predict(poly_reg.transform([[5.3]])))))"
      ],
      "execution_count": 17,
      "outputs": [
        {
          "output_type": "stream",
          "text": [
            "Student Score for 9.00 hours is 87.81\n",
            "Student Score for 2.00 hours is 20.93\n",
            "Student Score for 7.90 hours is 80.80\n",
            "Student Score for 5.30 hours is 55.64\n"
          ],
          "name": "stdout"
        }
      ]
    },
    {
      "cell_type": "markdown",
      "metadata": {
        "id": "Z4NDw-VKLA2b",
        "colab_type": "text"
      },
      "source": [
        "## Comparing Linear and Polynomial Regression Models"
      ]
    },
    {
      "cell_type": "code",
      "metadata": {
        "id": "AB4bZ3DSLHjF",
        "colab_type": "code",
        "colab": {
          "base_uri": "https://localhost:8080/",
          "height": 35
        },
        "outputId": "647f46b3-ac69-40c7-ac04-bf71e2902dfa"
      },
      "source": [
        "linear_performance=r2_score(y_test, lin_pred)\n",
        "poly_performance=r2_score(y_test, poly_pred)\n",
        "\n",
        "if linear_performance > poly_performance :\n",
        "  print(\"Linear Regression is the best of the two model with an Accuracy rate of:\",linear_performance*100)\n",
        "else:\n",
        "  print(\"Polynomial Regression is the best of the two model with an Accuracy rate of:\",poly_performance*100) "
      ],
      "execution_count": 18,
      "outputs": [
        {
          "output_type": "stream",
          "text": [
            "Polynomial Regression is the best of the two model with an Accuracy rate of: 96.42330762709628\n"
          ],
          "name": "stdout"
        }
      ]
    }
  ]
}